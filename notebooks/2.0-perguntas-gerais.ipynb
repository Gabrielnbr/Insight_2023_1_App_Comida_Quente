{
 "cells": [
  {
   "cell_type": "markdown",
   "metadata": {},
   "source": [
    "# 0.0 Imports"
   ]
  },
  {
   "cell_type": "code",
   "execution_count": 1,
   "metadata": {},
   "outputs": [],
   "source": [
    "import pickle\n",
    "\n",
    "import pandas as pd\n",
    "import numpy as np"
   ]
  },
  {
   "cell_type": "markdown",
   "metadata": {},
   "source": [
    "## 0.1 Help Functions"
   ]
  },
  {
   "cell_type": "code",
   "execution_count": 2,
   "metadata": {},
   "outputs": [],
   "source": [
    "np.set_printoptions(suppress=True)\n",
    "pd.set_option('display.float_format', '{:.2f}'.format)"
   ]
  },
  {
   "cell_type": "markdown",
   "metadata": {},
   "source": [
    "## 0.2 Import dataset"
   ]
  },
  {
   "cell_type": "code",
   "execution_count": 3,
   "metadata": {},
   "outputs": [
    {
     "data": {
      "text/html": [
       "<div>\n",
       "<style scoped>\n",
       "    .dataframe tbody tr th:only-of-type {\n",
       "        vertical-align: middle;\n",
       "    }\n",
       "\n",
       "    .dataframe tbody tr th {\n",
       "        vertical-align: top;\n",
       "    }\n",
       "\n",
       "    .dataframe thead th {\n",
       "        text-align: right;\n",
       "    }\n",
       "</style>\n",
       "<table border=\"1\" class=\"dataframe\">\n",
       "  <thead>\n",
       "    <tr style=\"text-align: right;\">\n",
       "      <th></th>\n",
       "      <th>restaurant_id</th>\n",
       "      <th>restaurant_name</th>\n",
       "      <th>country_code</th>\n",
       "      <th>city</th>\n",
       "      <th>address</th>\n",
       "      <th>locality</th>\n",
       "      <th>locality_verbose</th>\n",
       "      <th>longitude</th>\n",
       "      <th>latitude</th>\n",
       "      <th>currency</th>\n",
       "      <th>...</th>\n",
       "      <th>has_online_delivery</th>\n",
       "      <th>is_delivering_now</th>\n",
       "      <th>price_range</th>\n",
       "      <th>aggregate_rating</th>\n",
       "      <th>votes</th>\n",
       "      <th>name_country</th>\n",
       "      <th>custo_para_dois_corrigido</th>\n",
       "      <th>avalicao_texto</th>\n",
       "      <th>cuisines</th>\n",
       "      <th>nome_cor</th>\n",
       "    </tr>\n",
       "  </thead>\n",
       "  <tbody>\n",
       "    <tr>\n",
       "      <th>0</th>\n",
       "      <td>6310675</td>\n",
       "      <td>Mama Lou's Italian Kitchen</td>\n",
       "      <td>162</td>\n",
       "      <td>Las Piñas City</td>\n",
       "      <td>Block 1, Lot 36, Tropical Avenue Corner Tropic...</td>\n",
       "      <td>BF International</td>\n",
       "      <td>BF International, Las Piñas City</td>\n",
       "      <td>121.01</td>\n",
       "      <td>14.45</td>\n",
       "      <td>Botswana Pula(P)</td>\n",
       "      <td>...</td>\n",
       "      <td>0</td>\n",
       "      <td>0</td>\n",
       "      <td>3</td>\n",
       "      <td>4.60</td>\n",
       "      <td>619</td>\n",
       "      <td>Philippines</td>\n",
       "      <td>400.00</td>\n",
       "      <td>Excelente</td>\n",
       "      <td>Italian</td>\n",
       "      <td>Verde Escuro</td>\n",
       "    </tr>\n",
       "    <tr>\n",
       "      <th>1</th>\n",
       "      <td>6314542</td>\n",
       "      <td>Blackbird</td>\n",
       "      <td>162</td>\n",
       "      <td>Makati City</td>\n",
       "      <td>Nielson Tower, Ayala Triangle Gardens, Salcedo...</td>\n",
       "      <td>Ayala Triangle Gardens, Salcedo Village, Makat...</td>\n",
       "      <td>Ayala Triangle Gardens, Salcedo Village, Makat...</td>\n",
       "      <td>121.02</td>\n",
       "      <td>14.56</td>\n",
       "      <td>Botswana Pula(P)</td>\n",
       "      <td>...</td>\n",
       "      <td>0</td>\n",
       "      <td>0</td>\n",
       "      <td>4</td>\n",
       "      <td>4.70</td>\n",
       "      <td>469</td>\n",
       "      <td>Philippines</td>\n",
       "      <td>1127.27</td>\n",
       "      <td>Excelente</td>\n",
       "      <td>European</td>\n",
       "      <td>Verde Escuro</td>\n",
       "    </tr>\n",
       "    <tr>\n",
       "      <th>2</th>\n",
       "      <td>6304833</td>\n",
       "      <td>Manam</td>\n",
       "      <td>162</td>\n",
       "      <td>Makati City</td>\n",
       "      <td>Level 1, Greenbelt 2, Ayala Center, Greenbelt,...</td>\n",
       "      <td>Greenbelt 2, San Lorenzo, Makati City</td>\n",
       "      <td>Greenbelt 2, San Lorenzo, Makati City, Makati ...</td>\n",
       "      <td>121.02</td>\n",
       "      <td>14.55</td>\n",
       "      <td>Botswana Pula(P)</td>\n",
       "      <td>...</td>\n",
       "      <td>0</td>\n",
       "      <td>0</td>\n",
       "      <td>3</td>\n",
       "      <td>4.70</td>\n",
       "      <td>930</td>\n",
       "      <td>Philippines</td>\n",
       "      <td>254.55</td>\n",
       "      <td>Excelente</td>\n",
       "      <td>Filipino</td>\n",
       "      <td>Verde Escuro</td>\n",
       "    </tr>\n",
       "    <tr>\n",
       "      <th>3</th>\n",
       "      <td>18409457</td>\n",
       "      <td>Soban K-Town Grill</td>\n",
       "      <td>162</td>\n",
       "      <td>Makati City</td>\n",
       "      <td>Level 3, Greenbelt 3, Ayala Center, Greenbelt,...</td>\n",
       "      <td>Greenbelt 3, San Lorenzo, Makati City</td>\n",
       "      <td>Greenbelt 3, San Lorenzo, Makati City, Makati ...</td>\n",
       "      <td>121.02</td>\n",
       "      <td>14.55</td>\n",
       "      <td>Botswana Pula(P)</td>\n",
       "      <td>...</td>\n",
       "      <td>0</td>\n",
       "      <td>0</td>\n",
       "      <td>3</td>\n",
       "      <td>4.70</td>\n",
       "      <td>935</td>\n",
       "      <td>Philippines</td>\n",
       "      <td>472.73</td>\n",
       "      <td>Excelente</td>\n",
       "      <td>Korean</td>\n",
       "      <td>Verde Escuro</td>\n",
       "    </tr>\n",
       "    <tr>\n",
       "      <th>4</th>\n",
       "      <td>6318945</td>\n",
       "      <td>Nikkei</td>\n",
       "      <td>162</td>\n",
       "      <td>Makati City</td>\n",
       "      <td>Unit GO3, Frabelle Business Center, 111 Rada S...</td>\n",
       "      <td>Legaspi Village</td>\n",
       "      <td>Legaspi Village, Makati City</td>\n",
       "      <td>121.02</td>\n",
       "      <td>14.56</td>\n",
       "      <td>Botswana Pula(P)</td>\n",
       "      <td>...</td>\n",
       "      <td>0</td>\n",
       "      <td>0</td>\n",
       "      <td>4</td>\n",
       "      <td>4.60</td>\n",
       "      <td>394</td>\n",
       "      <td>Philippines</td>\n",
       "      <td>581.82</td>\n",
       "      <td>Excelente</td>\n",
       "      <td>Japanese</td>\n",
       "      <td>Verde Escuro</td>\n",
       "    </tr>\n",
       "  </tbody>\n",
       "</table>\n",
       "<p>5 rows × 21 columns</p>\n",
       "</div>"
      ],
      "text/plain": [
       "   restaurant_id             restaurant_name  country_code            city  \\\n",
       "0        6310675  Mama Lou's Italian Kitchen           162  Las Piñas City   \n",
       "1        6314542                   Blackbird           162     Makati City   \n",
       "2        6304833                       Manam           162     Makati City   \n",
       "3       18409457          Soban K-Town Grill           162     Makati City   \n",
       "4        6318945                      Nikkei           162     Makati City   \n",
       "\n",
       "                                             address  \\\n",
       "0  Block 1, Lot 36, Tropical Avenue Corner Tropic...   \n",
       "1  Nielson Tower, Ayala Triangle Gardens, Salcedo...   \n",
       "2  Level 1, Greenbelt 2, Ayala Center, Greenbelt,...   \n",
       "3  Level 3, Greenbelt 3, Ayala Center, Greenbelt,...   \n",
       "4  Unit GO3, Frabelle Business Center, 111 Rada S...   \n",
       "\n",
       "                                            locality  \\\n",
       "0                                   BF International   \n",
       "1  Ayala Triangle Gardens, Salcedo Village, Makat...   \n",
       "2              Greenbelt 2, San Lorenzo, Makati City   \n",
       "3              Greenbelt 3, San Lorenzo, Makati City   \n",
       "4                                    Legaspi Village   \n",
       "\n",
       "                                    locality_verbose  longitude  latitude  \\\n",
       "0                   BF International, Las Piñas City     121.01     14.45   \n",
       "1  Ayala Triangle Gardens, Salcedo Village, Makat...     121.02     14.56   \n",
       "2  Greenbelt 2, San Lorenzo, Makati City, Makati ...     121.02     14.55   \n",
       "3  Greenbelt 3, San Lorenzo, Makati City, Makati ...     121.02     14.55   \n",
       "4                       Legaspi Village, Makati City     121.02     14.56   \n",
       "\n",
       "           currency  ...  has_online_delivery  is_delivering_now  price_range  \\\n",
       "0  Botswana Pula(P)  ...                    0                  0            3   \n",
       "1  Botswana Pula(P)  ...                    0                  0            4   \n",
       "2  Botswana Pula(P)  ...                    0                  0            3   \n",
       "3  Botswana Pula(P)  ...                    0                  0            3   \n",
       "4  Botswana Pula(P)  ...                    0                  0            4   \n",
       "\n",
       "   aggregate_rating  votes  name_country custo_para_dois_corrigido  \\\n",
       "0              4.60    619   Philippines                    400.00   \n",
       "1              4.70    469   Philippines                   1127.27   \n",
       "2              4.70    930   Philippines                    254.55   \n",
       "3              4.70    935   Philippines                    472.73   \n",
       "4              4.60    394   Philippines                    581.82   \n",
       "\n",
       "   avalicao_texto  cuisines      nome_cor  \n",
       "0       Excelente   Italian  Verde Escuro  \n",
       "1       Excelente  European  Verde Escuro  \n",
       "2       Excelente  Filipino  Verde Escuro  \n",
       "3       Excelente    Korean  Verde Escuro  \n",
       "4       Excelente  Japanese  Verde Escuro  \n",
       "\n",
       "[5 rows x 21 columns]"
      ]
     },
     "execution_count": 3,
     "metadata": {},
     "output_type": "execute_result"
    }
   ],
   "source": [
    "df = C\n",
    "df.head()"
   ]
  },
  {
   "cell_type": "markdown",
   "metadata": {},
   "source": [
    "# 1.0 Perguntas de negócio"
   ]
  },
  {
   "cell_type": "code",
   "execution_count": 4,
   "metadata": {},
   "outputs": [
    {
     "data": {
      "text/plain": [
       "Index(['restaurant_id', 'restaurant_name', 'country_code', 'city', 'address',\n",
       "       'locality', 'locality_verbose', 'longitude', 'latitude', 'currency',\n",
       "       'has_table_booking', 'has_online_delivery', 'is_delivering_now',\n",
       "       'price_range', 'aggregate_rating', 'votes', 'name_country',\n",
       "       'custo_para_dois_corrigido', 'avalicao_texto', 'cuisines', 'nome_cor'],\n",
       "      dtype='object')"
      ]
     },
     "execution_count": 4,
     "metadata": {},
     "output_type": "execute_result"
    }
   ],
   "source": [
    "df.columns"
   ]
  },
  {
   "cell_type": "markdown",
   "metadata": {},
   "source": [
    "## 1.1 Quantos restaurantes únicos estão registrados?"
   ]
  },
  {
   "cell_type": "code",
   "execution_count": 5,
   "metadata": {},
   "outputs": [
    {
     "data": {
      "text/plain": [
       "6941"
      ]
     },
     "execution_count": 5,
     "metadata": {},
     "output_type": "execute_result"
    }
   ],
   "source": [
    "df['restaurant_id'].unique().shape[0]"
   ]
  },
  {
   "cell_type": "markdown",
   "metadata": {},
   "source": [
    "## 1.2 Quantos países únicos estão registrados?"
   ]
  },
  {
   "cell_type": "code",
   "execution_count": 6,
   "metadata": {},
   "outputs": [
    {
     "data": {
      "text/plain": [
       "15"
      ]
     },
     "execution_count": 6,
     "metadata": {},
     "output_type": "execute_result"
    }
   ],
   "source": [
    "df['name_country'].unique().shape[0]"
   ]
  },
  {
   "cell_type": "markdown",
   "metadata": {},
   "source": [
    "## 1.3 Quantas cidades únicas estão registradas?"
   ]
  },
  {
   "cell_type": "code",
   "execution_count": 7,
   "metadata": {},
   "outputs": [
    {
     "data": {
      "text/plain": [
       "125"
      ]
     },
     "execution_count": 7,
     "metadata": {},
     "output_type": "execute_result"
    }
   ],
   "source": [
    "df['city'].unique().shape[0]"
   ]
  },
  {
   "cell_type": "markdown",
   "metadata": {},
   "source": [
    "## 1.4 Qual o total de avaliações feitas?"
   ]
  },
  {
   "cell_type": "code",
   "execution_count": 8,
   "metadata": {},
   "outputs": [
    {
     "data": {
      "text/plain": [
       "6941"
      ]
     },
     "execution_count": 8,
     "metadata": {},
     "output_type": "execute_result"
    }
   ],
   "source": [
    "df['avalicao_texto'].notnull().sum()"
   ]
  },
  {
   "cell_type": "markdown",
   "metadata": {},
   "source": [
    "## 1.5 Qual o total de tipos de culinária registrados?"
   ]
  },
  {
   "cell_type": "code",
   "execution_count": 9,
   "metadata": {},
   "outputs": [
    {
     "data": {
      "text/plain": [
       "166"
      ]
     },
     "execution_count": 9,
     "metadata": {},
     "output_type": "execute_result"
    }
   ],
   "source": [
    "df['cuisines'].unique().shape[0]"
   ]
  }
 ],
 "metadata": {
  "kernelspec": {
   "display_name": "Python 3.10.4 ('23CQ': venv)",
   "language": "python",
   "name": "python3"
  },
  "language_info": {
   "codemirror_mode": {
    "name": "ipython",
    "version": 3
   },
   "file_extension": ".py",
   "mimetype": "text/x-python",
   "name": "python",
   "nbconvert_exporter": "python",
   "pygments_lexer": "ipython3",
   "version": "3.10.4"
  },
  "orig_nbformat": 4,
  "vscode": {
   "interpreter": {
    "hash": "bb383f5b0cd41d5a4ed9068489edb62cf4491a255206eb0f6676134eae1467f3"
   }
  }
 },
 "nbformat": 4,
 "nbformat_minor": 2
}
