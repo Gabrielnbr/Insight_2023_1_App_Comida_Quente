{
 "cells": [
  {
   "cell_type": "code",
   "execution_count": null,
   "metadata": {},
   "outputs": [],
   "source": []
  },
  {
   "cell_type": "markdown",
   "metadata": {},
   "source": [
    "Gerais\n",
    "1. Quantos restaurantes únicos estão registrados?\n",
    "2. Quantos países únicos estão registrados?\n",
    "3. Quantas cidades únicas estão registradas?\n",
    "4. Qual o total de avaliações feitas?\n",
    "5. Qual o total de tipos de culinária registrados?"
   ]
  }
 ],
 "metadata": {
  "kernelspec": {
   "display_name": "Python 3.10.4 ('23CQ': venv)",
   "language": "python",
   "name": "python3"
  },
  "language_info": {
   "name": "python",
   "version": "3.10.4"
  },
  "orig_nbformat": 4,
  "vscode": {
   "interpreter": {
    "hash": "bb383f5b0cd41d5a4ed9068489edb62cf4491a255206eb0f6676134eae1467f3"
   }
  }
 },
 "nbformat": 4,
 "nbformat_minor": 2
}
