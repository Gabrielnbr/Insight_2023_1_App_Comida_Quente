{
 "cells": [
  {
   "cell_type": "code",
   "execution_count": null,
   "metadata": {},
   "outputs": [],
   "source": []
  },
  {
   "cell_type": "markdown",
   "metadata": {},
   "source": [
    "Pais\n",
    "1. Qual o nome do país que possui mais cidades registradas?\n",
    "2. Qual o nome do país que possui mais restaurantes registrados?\n",
    "3. Qual o nome do país que possui mais restaurantes  com o nível de preço igual a 4 registrados?\n",
    "4. Qual o nome do país que possui a maior quantidade de tipos de culinária distintos?\n",
    "5. Qual o nome do país que possui a maior quantidade de avaliações feitas?\n",
    "6. Qual o nome do país que possui a maior quantidade de restaurantes que fazem entrega?\n",
    "7. Qual o nome do país que possui a maior quantidade de restaurantes que aceitam reservas?\n",
    "8. Qual o nome do país que possui, na média, a maior quantidade de avaliações registrada?\n",
    "9. Qual o nome do país que possui, na média, a maior nota média registrada?\n",
    "10. Qual o nome do país que possui, na média, a menor nota média registrada?\n",
    "11. Qual a média de preço de um prato para dois por país?"
   ]
  }
 ],
 "metadata": {
  "kernelspec": {
   "display_name": "Python 3.10.4 ('23CQ': venv)",
   "language": "python",
   "name": "python3"
  },
  "language_info": {
   "name": "python",
   "version": "3.10.4"
  },
  "orig_nbformat": 4,
  "vscode": {
   "interpreter": {
    "hash": "bb383f5b0cd41d5a4ed9068489edb62cf4491a255206eb0f6676134eae1467f3"
   }
  }
 },
 "nbformat": 4,
 "nbformat_minor": 2
}
